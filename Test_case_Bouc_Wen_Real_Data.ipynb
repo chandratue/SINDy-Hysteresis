{
 "cells": [
  {
   "cell_type": "code",
   "execution_count": 1,
   "metadata": {},
   "outputs": [],
   "source": [
    "import numpy as np\n",
    "import matplotlib.pyplot as plt\n",
    "import pysindy as ps\n",
    "from scipy.integrate import odeint\n",
    "from math import pi\n",
    "from pysindy.differentiation import FiniteDifference\n",
    "fd = FiniteDifference(order=2, d=1)\n",
    "\n",
    "from sklearn import linear_model\n",
    "from sklearn.model_selection import train_test_split\n",
    "from sklearn.metrics import mean_squared_error\n",
    "import glob\n",
    "from sklearn.metrics import mean_absolute_error\n",
    "import timeit"
   ]
  },
  {
   "cell_type": "code",
   "execution_count": 2,
   "metadata": {},
   "outputs": [],
   "source": [
    "start_train = timeit.timeit()"
   ]
  },
  {
   "cell_type": "code",
   "execution_count": 3,
   "metadata": {},
   "outputs": [
    {
     "name": "stdout",
     "output_type": "stream",
     "text": [
      "       Unnamed: 0        0  -1.6174316        0.1\n",
      "0             NaN   0.0002   -1.724243    0.00000\n",
      "1             NaN   0.0004   -1.655579    0.00000\n",
      "2             NaN   0.0006   -1.754761    0.00000\n",
      "3             NaN   0.0008   -1.701355    0.00000\n",
      "4             NaN   0.0010   -1.701355    0.00000\n",
      "...           ...      ...         ...        ...\n",
      "49995         NaN   9.9992  -13.984680 -117.59304\n",
      "49996         NaN   9.9994  -13.916016 -117.70996\n",
      "49997         NaN   9.9996  -13.931274 -117.82671\n",
      "49998         NaN   9.9998  -13.839722 -117.94326\n",
      "49999         NaN  10.0000  -13.938904 -118.05964\n",
      "\n",
      "[50000 rows x 4 columns]\n"
     ]
    }
   ],
   "source": [
    "import pandas as pd\n",
    "\n",
    "df = pd.read_csv (r'hysteresis_v_150_1hz.csv')\n",
    "print (df)\n"
   ]
  },
  {
   "cell_type": "code",
   "execution_count": 4,
   "metadata": {},
   "outputs": [
    {
     "data": {
      "text/plain": [
       "(50000, 4)"
      ]
     },
     "execution_count": 4,
     "metadata": {},
     "output_type": "execute_result"
    }
   ],
   "source": [
    "df.shape"
   ]
  },
  {
   "cell_type": "code",
   "execution_count": 5,
   "metadata": {},
   "outputs": [
    {
     "data": {
      "text/plain": [
       "(50000, 4)"
      ]
     },
     "execution_count": 5,
     "metadata": {},
     "output_type": "execute_result"
    }
   ],
   "source": [
    "data = df.to_numpy()\n",
    "data.shape"
   ]
  },
  {
   "cell_type": "code",
   "execution_count": 6,
   "metadata": {},
   "outputs": [],
   "source": [
    "data_col = data[:,1:4]"
   ]
  },
  {
   "cell_type": "code",
   "execution_count": 7,
   "metadata": {},
   "outputs": [],
   "source": [
    "data_final = data_col[35000:45000,:]"
   ]
  },
  {
   "cell_type": "code",
   "execution_count": 8,
   "metadata": {},
   "outputs": [
    {
     "data": {
      "text/plain": [
       "(10000, 3)"
      ]
     },
     "execution_count": 8,
     "metadata": {},
     "output_type": "execute_result"
    }
   ],
   "source": [
    "data_final.shape"
   ]
  },
  {
   "cell_type": "code",
   "execution_count": 9,
   "metadata": {},
   "outputs": [
    {
     "data": {
      "text/plain": [
       "(10000,)"
      ]
     },
     "execution_count": 9,
     "metadata": {},
     "output_type": "execute_result"
    }
   ],
   "source": [
    "t = data_final[:,0]\n",
    "t.shape"
   ]
  },
  {
   "cell_type": "code",
   "execution_count": 10,
   "metadata": {},
   "outputs": [
    {
     "data": {
      "text/plain": [
       "(10000,)"
      ]
     },
     "execution_count": 10,
     "metadata": {},
     "output_type": "execute_result"
    }
   ],
   "source": [
    "x = data_final[:,2]\n",
    "x.shape"
   ]
  },
  {
   "cell_type": "code",
   "execution_count": 11,
   "metadata": {},
   "outputs": [
    {
     "data": {
      "text/plain": [
       "(10000, 1)"
      ]
     },
     "execution_count": 11,
     "metadata": {},
     "output_type": "execute_result"
    }
   ],
   "source": [
    "y = data_final[:,1]\n",
    "y = y.reshape(-1,1)\n",
    "y.shape"
   ]
  },
  {
   "cell_type": "code",
   "execution_count": 12,
   "metadata": {},
   "outputs": [],
   "source": [
    "#plt.grid(linestyle='dotted')\n",
    "#t = np.linspace(0,20*pi,1000)\n",
    "#x = np.sin(t)\n",
    "#plt.plot(t, x)\n",
    "#plt.xlabel('Time', fontsize = 20)\n",
    "#plt.ylabel('Voltage', fontsize = 20)\n",
    "#plt.legend(['Actual function' , 'Learned function', 'Training Data'], prop={'size': 16})\n",
    "#plt.xticks(fontsize=20)\n",
    "#plt.yticks(fontsize=20)\n",
    "#plt.savefig(\"Results/test2_input.png\", dpi = 300, bbox_inches='tight')"
   ]
  },
  {
   "cell_type": "code",
   "execution_count": 13,
   "metadata": {},
   "outputs": [
    {
     "data": {
      "text/plain": [
       "(10000,)"
      ]
     },
     "execution_count": 13,
     "metadata": {},
     "output_type": "execute_result"
    }
   ],
   "source": [
    "t.shape"
   ]
  },
  {
   "cell_type": "code",
   "execution_count": 14,
   "metadata": {},
   "outputs": [],
   "source": [
    "#plt.plot(t,x)\n",
    "#x_exact = 150*np.sin(2*pi*t-46.18)\n",
    "x_exact = 150*np.sin(6.28318530724*t-46.2178545458)\n"
   ]
  },
  {
   "cell_type": "code",
   "execution_count": 15,
   "metadata": {},
   "outputs": [
    {
     "name": "stdout",
     "output_type": "stream",
     "text": [
      "Relative Error Test in x:  6.977585424072029e-13 %\n"
     ]
    }
   ],
   "source": [
    "y = y.reshape(-1,1)\n",
    "# Compute the relative L2 error norm (generalization error)\n",
    "relative_error_test = np.mean((x - x_exact)**2)/np.mean(x_exact**2)\n",
    "print(\"Relative Error Test in x: \", relative_error_test*100, \"%\")"
   ]
  },
  {
   "cell_type": "code",
   "execution_count": null,
   "metadata": {},
   "outputs": [],
   "source": []
  },
  {
   "cell_type": "code",
   "execution_count": 16,
   "metadata": {},
   "outputs": [
    {
     "data": {
      "text/plain": [
       "[<matplotlib.lines.Line2D at 0x7f76fe387dd0>]"
      ]
     },
     "execution_count": 16,
     "metadata": {},
     "output_type": "execute_result"
    },
    {
     "data": {
      "image/png": "[encoded data removed]",
      "text/plain": [
       "<Figure size 432x288 with 1 Axes>"
      ]
     },
     "metadata": {
      "needs_background": "light"
     },
     "output_type": "display_data"
    }
   ],
   "source": [
    "plt.plot(t,x)\n",
    "plt.plot(t,x_exact)"
   ]
  },
  {
   "cell_type": "code",
   "execution_count": 17,
   "metadata": {},
   "outputs": [],
   "source": [
    "dx = fd._differentiate(x, t)"
   ]
  },
  {
   "cell_type": "code",
   "execution_count": 18,
   "metadata": {},
   "outputs": [],
   "source": [
    "#plt.plot(t,dx)"
   ]
  },
  {
   "cell_type": "code",
   "execution_count": 19,
   "metadata": {},
   "outputs": [],
   "source": [
    "mdx = np.abs(dx)"
   ]
  },
  {
   "cell_type": "code",
   "execution_count": 20,
   "metadata": {},
   "outputs": [],
   "source": [
    "#plt.plot(t, mdx)"
   ]
  },
  {
   "cell_type": "code",
   "execution_count": 21,
   "metadata": {},
   "outputs": [],
   "source": [
    "#def model(y, t):\n",
    " #   dydt = np.cos(t) - 0.5*np.abs(np.cos(t))*y - 2*np.cos(t)*np.abs(y)\n",
    "  #  return dydt"
   ]
  },
  {
   "cell_type": "code",
   "execution_count": 22,
   "metadata": {},
   "outputs": [],
   "source": [
    "#y0 = 0\n",
    "#y = odeint(model, y0, t)"
   ]
  },
  {
   "cell_type": "code",
   "execution_count": 23,
   "metadata": {},
   "outputs": [
    {
     "data": {
      "text/plain": [
       "(10000, 1)"
      ]
     },
     "execution_count": 23,
     "metadata": {},
     "output_type": "execute_result"
    }
   ],
   "source": [
    "y.shape"
   ]
  },
  {
   "cell_type": "code",
   "execution_count": 24,
   "metadata": {},
   "outputs": [],
   "source": [
    "#plt.plot(t,y)"
   ]
  },
  {
   "cell_type": "code",
   "execution_count": 25,
   "metadata": {},
   "outputs": [],
   "source": [
    "#plt.plot(x, y)"
   ]
  },
  {
   "cell_type": "code",
   "execution_count": 26,
   "metadata": {},
   "outputs": [],
   "source": [
    "dy = fd._differentiate(y, t)\n",
    "#plt.plot(t, dy)"
   ]
  },
  {
   "cell_type": "code",
   "execution_count": null,
   "metadata": {},
   "outputs": [],
   "source": []
  },
  {
   "cell_type": "code",
   "execution_count": 27,
   "metadata": {},
   "outputs": [],
   "source": [
    "my = np.abs(y)\n",
    "my = my.reshape(-1,)\n",
    "mdy = np.abs(dy)\n",
    "mdy = mdy.reshape(-1,)"
   ]
  },
  {
   "cell_type": "code",
   "execution_count": 28,
   "metadata": {},
   "outputs": [],
   "source": [
    "y = y.reshape(-1,)\n",
    "dy = dy.reshape(-1,)\n",
    "t1 = dx\n",
    "t2 = mdx*y\n",
    "t3 = dx*my\n",
    "#terms = t1-0.5*t2-2*t3\n",
    "#plt.plot(t,terms)\n",
    "#plt.plot(t, dy)"
   ]
  },
  {
   "cell_type": "code",
   "execution_count": 29,
   "metadata": {},
   "outputs": [],
   "source": [
    "X = np.stack((y, x, dx, mdx, my), axis=-1)"
   ]
  },
  {
   "cell_type": "code",
   "execution_count": 30,
   "metadata": {
    "scrolled": true
   },
   "outputs": [
    {
     "name": "stdout",
     "output_type": "stream",
     "text": [
      "(x0)' = -0.993 x0 + 0.237 x1 + 0.126 x2\n",
      "(x1)' = 1.000 x2\n",
      "(x2)' = -0.156 1 + -39.477 x1\n",
      "(x3)' = -145367.331 1 + 2065.056 x0 + -257.213 x1 + -5.799 x2 + 68.322 x3 + 3045.972 x4 + -5866.679 x0^2 + 2950.766 x0 x1 + -65.239 x0 x2 + -4.188 x0 x3 + 90.365 x0 x4 + -181.532 x1^2 + 8.186 x1 x2 + 0.539 x1 x3 + -12.476 x1 x4 + 0.468 x2 x4 + -2.767 x3 x4 + -5866.679 x4^2\n",
      "(x4)' = -817.856 1 + -6.066 x0 + 0.698 x1 + -2.773 x4 + -93.656 x0^2 + 47.384 x0 x1 + -0.859 x0 x2 + -2.956 x1^2 + 0.110 x1 x2 + -93.656 x4^2\n"
     ]
    }
   ],
   "source": [
    "model = ps.SINDy()\n",
    "model.fit(X,t)\n",
    "model.print()"
   ]
  },
  {
   "cell_type": "code",
   "execution_count": 31,
   "metadata": {},
   "outputs": [
    {
     "name": "stdout",
     "output_type": "stream",
     "text": [
      "-0.007578222000006463\n"
     ]
    }
   ],
   "source": [
    "end_train = timeit.timeit()\n",
    "print(end_train - start_train)"
   ]
  },
  {
   "cell_type": "code",
   "execution_count": 32,
   "metadata": {},
   "outputs": [],
   "source": [
    "c1 = -0.993\n",
    "c2 = 0.237\n",
    "c3 = 0.126\n",
    "def test_model(y, t):\n",
    "    #dydt = c1*y + c2*150*np.sin(2*pi*t-46.18) + c3*300*pi*np.cos(2*pi*t-46.18)\n",
    "    dydt = c1*y + c2*150*np.sin(6.28318530724*t-46.2178545458) + c3*942.477796086*np.cos(6.28318530724*t-46.2178545458)\n",
    "    return dydt"
   ]
  },
  {
   "cell_type": "code",
   "execution_count": 33,
   "metadata": {},
   "outputs": [],
   "source": [
    "start_test = timeit.timeit()"
   ]
  },
  {
   "cell_type": "code",
   "execution_count": 34,
   "metadata": {},
   "outputs": [],
   "source": [
    "ytest_0 = -14.030457\n",
    "y_test = odeint(test_model, ytest_0, t)"
   ]
  },
  {
   "cell_type": "code",
   "execution_count": 35,
   "metadata": {},
   "outputs": [
    {
     "name": "stdout",
     "output_type": "stream",
     "text": [
      "-0.0006696319999832667\n"
     ]
    }
   ],
   "source": [
    "end_test = timeit.timeit()\n",
    "print(end_test - start_test)"
   ]
  },
  {
   "cell_type": "code",
   "execution_count": 36,
   "metadata": {
    "scrolled": true
   },
   "outputs": [
    {
     "data": {
      "text/plain": [
       "[<matplotlib.lines.Line2D at 0x7f76fdafbc50>]"
      ]
     },
     "execution_count": 36,
     "metadata": {},
     "output_type": "execute_result"
    },
    {
     "data": {
      "image/png": "[encoded data removed]",
      "text/plain": [
       "<Figure size 432x288 with 1 Axes>"
      ]
     },
     "metadata": {
      "needs_background": "light"
     },
     "output_type": "display_data"
    }
   ],
   "source": [
    "plt.plot(t, y_test)\n",
    "plt.plot(t, y)"
   ]
  },
  {
   "cell_type": "code",
   "execution_count": 37,
   "metadata": {},
   "outputs": [
    {
     "data": {
      "image/png": "[encoded data removed]",
      "text/plain": [
       "<Figure size 432x288 with 1 Axes>"
      ]
     },
     "metadata": {
      "needs_background": "light"
     },
     "output_type": "display_data"
    }
   ],
   "source": [
    "plt.grid(linestyle='dotted')\n",
    "plt.plot(x, y, 'r')\n",
    "plt.plot(x, y_test, linewidth=2, linestyle=':')\n",
    "plt.xlabel('Voltage [volts]', fontsize = 20)\n",
    "plt.ylabel('Displacement [micrometers]', fontsize = 20)\n",
    "plt.legend(['Ground truth' , 'Learned relation'], loc='upper left', prop={'size': 12})\n",
    "plt.xticks(fontsize=20, rotation='45')\n",
    "plt.yticks(fontsize=20)\n",
    "plt.savefig(\"Pics/Slide14_loop.png\", dpi=1000,bbox_inches='tight')"
   ]
  },
  {
   "cell_type": "code",
   "execution_count": 38,
   "metadata": {
    "scrolled": true
   },
   "outputs": [],
   "source": [
    "from sklearn.metrics import r2_score"
   ]
  },
  {
   "cell_type": "code",
   "execution_count": 39,
   "metadata": {},
   "outputs": [],
   "source": [
    "r2 = r2_score(y, y_test)"
   ]
  },
  {
   "cell_type": "code",
   "execution_count": 40,
   "metadata": {},
   "outputs": [
    {
     "data": {
      "text/plain": [
       "0.9996745361205122"
      ]
     },
     "execution_count": 40,
     "metadata": {},
     "output_type": "execute_result"
    }
   ],
   "source": [
    "r2"
   ]
  },
  {
   "cell_type": "code",
   "execution_count": null,
   "metadata": {},
   "outputs": [],
   "source": []
  },
  {
   "cell_type": "code",
   "execution_count": null,
   "metadata": {},
   "outputs": [],
   "source": []
  },
  {
   "cell_type": "code",
   "execution_count": null,
   "metadata": {},
   "outputs": [],
   "source": []
  },
  {
   "cell_type": "code",
   "execution_count": null,
   "metadata": {},
   "outputs": [],
   "source": []
  },
  {
   "cell_type": "code",
   "execution_count": 41,
   "metadata": {},
   "outputs": [
    {
     "name": "stdout",
     "output_type": "stream",
     "text": [
      "Relative Error Test:  0.03254531539011475 %\n"
     ]
    }
   ],
   "source": [
    "y = y.reshape(-1,1)\n",
    "# Compute the relative L2 error norm (generalization error)\n",
    "relative_error_test = np.mean((y_test - y)**2)/np.mean(y**2)\n",
    "print(\"Relative Error Test: \", relative_error_test*100, \"%\")"
   ]
  },
  {
   "cell_type": "code",
   "execution_count": 42,
   "metadata": {},
   "outputs": [
    {
     "data": {
      "text/plain": [
       "[<matplotlib.lines.Line2D at 0x7f76fd799b10>]"
      ]
     },
     "execution_count": 42,
     "metadata": {},
     "output_type": "execute_result"
    },
    {
     "data": {
      "image/png": "[encoded data removed]",
      "text/plain": [
       "<Figure size 432x288 with 1 Axes>"
      ]
     },
     "metadata": {
      "needs_background": "light"
     },
     "output_type": "display_data"
    }
   ],
   "source": [
    "err_t = np.abs(y-y_test)\n",
    "plt.plot(t, err_t)"
   ]
  },
  {
   "cell_type": "code",
   "execution_count": 43,
   "metadata": {},
   "outputs": [
    {
     "data": {
      "text/plain": [
       "0.6243508067380557"
      ]
     },
     "execution_count": 43,
     "metadata": {},
     "output_type": "execute_result"
    }
   ],
   "source": [
    "from sklearn.metrics import mean_squared_error\n",
    "rmse = np.sqrt(mean_squared_error(y, y_test))\n",
    "nrmse = rmse*2.5\n",
    "nrmse"
   ]
  },
  {
   "cell_type": "code",
   "execution_count": null,
   "metadata": {},
   "outputs": [],
   "source": []
  },
  {
   "cell_type": "code",
   "execution_count": null,
   "metadata": {},
   "outputs": [],
   "source": []
  }
 ],
 "metadata": {
  "kernelspec": {
   "display_name": "sindy",
   "language": "python",
   "name": "sindy"
  },
  "language_info": {
   "codemirror_mode": {
    "name": "ipython",
    "version": 3
   },
   "file_extension": ".py",
   "mimetype": "text/x-python",
   "name": "python",
   "nbconvert_exporter": "python",
   "pygments_lexer": "ipython3",
   "version": "3.7.11"
  }
 },
 "nbformat": 4,
 "nbformat_minor": 4
}
